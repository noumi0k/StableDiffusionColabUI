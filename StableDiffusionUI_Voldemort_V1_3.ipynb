{
  "cells": [
    {
      "cell_type": "markdown",
      "metadata": {
        "id": "view-in-github",
        "colab_type": "text"
      },
      "source": [
        "<a href=\"https://colab.research.google.com/github/noumi0k/StableDiffusionColabUI/blob/main/StableDiffusionUI_Voldemort_V1_3.ipynb\" target=\"_parent\"><img src=\"https://colab.research.google.com/assets/colab-badge.svg\" alt=\"Open In Colab\"/></a>"
      ]
    },
    {
      "cell_type": "markdown",
      "metadata": {
        "id": "gfKvWAVnz8OB"
      },
      "source": [
        "Adapted from: https://colab.research.google.com/drive/1AfAmwLMd_Vx33O9IwY2TmO9wKZ8ABRRa"
      ]
    },
    {
      "cell_type": "code",
      "source": [
        "#@title 導入時に最初に一度だけ実行するフォルダ生成処理\n",
        "import json\n",
        "from google.colab import drive\n",
        "drive.mount('/content/drive')\n",
        "\n",
        "!mkdir /content/drive/MyDrive/\"Colab Notebooks\"\n",
        "!mkdir /content/drive/MyDrive/\"Colab Notebooks\"/stablediffusion\n",
        "!mkdir /content/drive/MyDrive/\"Colab Notebooks\"/stablediffusion/model\n",
        "\n",
        "config_json = {\n",
        "    \"outdir_txt2img_samples\": \"/content/drive/MyDrive/Colab Notebooks/stablediffusion/outputs/txt2img-images\",\n",
        "    \"outdir_img2img_samples\": \"/content/drive/MyDrive/Colab Notebooks/stablediffusion/outputs/img2img-images\",\n",
        "    \"outdir_extras_samples\": \"/content/drive/MyDrive/Colab Notebooks/stablediffusion/outputs/extras-images\"\n",
        "}\n",
        "\n",
        "!cat /content/drive/MyDrive/\"Colab Notebooks\"/stablediffusion/config.json\n",
        "with open(\"/content/drive/MyDrive/Colab Notebooks/stablediffusion/config.json\", 'w') as f:\n",
        "    json.dump(config_json, f, indent=4)"
      ],
      "metadata": {
        "id": "SVcwF17DQf6T",
        "cellView": "form"
      },
      "execution_count": null,
      "outputs": []
    },
    {
      "cell_type": "markdown",
      "source": [
        "サーバ起動時には「**SD1.5**」のコードを実行して、「**初期設定**」を実行してから「**サービス立ち上げ**」をしてね！"
      ],
      "metadata": {
        "id": "GEwaOHz5LyLC"
      }
    },
    {
      "cell_type": "code",
      "execution_count": null,
      "metadata": {
        "id": "I1j4j2NfAQye",
        "cellView": "form"
      },
      "outputs": [],
      "source": [
        "!git clone https://github.com/AUTOMATIC1111/stable-diffusion-webui\n",
        "%cd stable-diffusion-webui\n",
        "#@title SD1.5\n",
        "# get a token from https://huggingface.co/settings/tokens\n",
        "# user_token = \"\" #@param {type:\"string\"}\n",
        "# user_header = f\"\\\"Authorization: Bearer {user_token}\\\"\"\n",
        "# !wget --header={user_header} https://huggingface.co/runwayml/stable-diffusion-v1-5/resolve/main/v1-5-pruned.ckpt -O /content/stable-diffusion-webui/model.ckpt"
      ]
    },
    {
      "cell_type": "markdown",
      "source": [
        "モデルは.safetensors拡張子のものを推奨。\n",
        "\n",
        "1.   モデルを探してくる\n",
        "2.   モデルデータを「Colab Notebooks/stablediffusion/model」内に格納する\n",
        "3.   下記「model_filename」に格納したモデルのファイル名を入力する\n",
        "\n",
        "\n",
        "[モデル探しの参考ページ Civitai.com](https://civitai.com/)"
      ],
      "metadata": {
        "id": "16xYxaEQebM2"
      }
    },
    {
      "cell_type": "code",
      "execution_count": null,
      "metadata": {
        "id": "UHES_yMPgqkS",
        "cellView": "form"
      },
      "outputs": [],
      "source": [
        "#@title 初期設定 { vertical-output: true }\n",
        "from google.colab import drive\n",
        "drive.mount('/content/drive')\n",
        "model_filename = \"\" #@param {type: \"string\"}\n",
        "!cp /content/drive/MyDrive/\"Colab Notebooks\"/stablediffusion/model/{model_filename}  /content/stable-diffusion-webui/models/Stable-diffusion/\n",
        "!cp /content/drive/MyDrive/\"Colab Notebooks\"/stablediffusion/config.json  /content/stable-diffusion-webui/\n"
      ]
    },
    {
      "cell_type": "markdown",
      "source": [
        "ngrok利用時には下記ページから会員登録＆メール認証を行いYour Authtokenを取得して置いてね。\n",
        "\n",
        "https://dashboard.ngrok.com/"
      ],
      "metadata": {
        "id": "Pz01dTnaL5eg"
      }
    },
    {
      "cell_type": "code",
      "source": [
        "#@title ngrokでサービス立ち上げ\n",
        "your_authtoken = \"\" #@param {type:\"string\"}\n",
        "user_name = \"\" #@param {type:\"string\"}\n",
        "password = \"\" #@param {type:\"string\"}\n",
        "!COMMANDLINE_ARGS=\"--ngrok {your_authtoken} --ngrok-region jp --gradio-debug --gradio-auth {user_name}:{password}\" REQS_FILE=\"requirements.txt\" python launch.py"
      ],
      "metadata": {
        "cellView": "form",
        "id": "KTqUwvf_zlBr"
      },
      "execution_count": null,
      "outputs": []
    },
    {
      "cell_type": "markdown",
      "source": [
        "サービス立ち上げ実行後「ngrok connected to localhost:7860! URL: 」の文字列の後ろのURLにアクセス\n",
        "\n",
        "※「To create a public link, set ほにゃらら」とかが表示される前にやるとエラーになるので注意"
      ],
      "metadata": {
        "id": "MiICokiLLc3j"
      }
    },
    {
      "cell_type": "markdown",
      "metadata": {
        "id": "xt8lbdmC04ox"
      },
      "source": [
        "Launch web ui. You will get a link to nnn.gradio.app, follow it.\n",
        "\n",
        "Commandline arguments are:\n",
        "  - `--share` - create online gradio.app link\n",
        "  - `--gradio-debug` - print outputs to console\n",
        "  - optional: `--gradio-auth me:qwerty` - add authentication to gradio: username me, password qwerty\n",
        "  - see [wiki](https://github.com/AUTOMATIC1111/stable-diffusion-webui/wiki/Command-Line-Arguments-and-Settings) for more options"
      ]
    }
  ],
  "metadata": {
    "colab": {
      "provenance": [],
      "include_colab_link": true
    },
    "gpuClass": "standard",
    "kernelspec": {
      "display_name": "Python 3",
      "name": "python3"
    },
    "language_info": {
      "name": "python"
    }
  },
  "nbformat": 4,
  "nbformat_minor": 0
}